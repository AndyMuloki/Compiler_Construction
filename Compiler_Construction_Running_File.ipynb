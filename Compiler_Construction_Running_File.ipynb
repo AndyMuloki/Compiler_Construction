{
  "nbformat": 4,
  "nbformat_minor": 0,
  "metadata": {
    "colab": {
      "provenance": [],
      "collapsed_sections": [],
      "authorship_tag": "ABX9TyMmJkfZtPMT13bk8E1OZj3a",
      "include_colab_link": true
    },
    "kernelspec": {
      "name": "python3",
      "display_name": "Python 3"
    },
    "language_info": {
      "name": "python"
    }
  },
  "cells": [
    {
      "cell_type": "markdown",
      "metadata": {
        "id": "view-in-github",
        "colab_type": "text"
      },
      "source": [
        "<a href=\"https://colab.research.google.com/github/AndyMuloki/Compiler_Construction/blob/main/Compiler_Construction_Running_File.ipynb\" target=\"_parent\"><img src=\"https://colab.research.google.com/assets/colab-badge.svg\" alt=\"Open In Colab\"/></a>"
      ]
    },
    {
      "cell_type": "markdown",
      "source": [
        "# Group members:"
      ],
      "metadata": {
        "id": "jLAQPaEolz1f"
      }
    },
    {
      "cell_type": "markdown",
      "source": [
        "## Lab Activity 1:  Flex, Bison, Lex, Yacc"
      ],
      "metadata": {
        "id": "gRWVUGEpmBAH"
      }
    },
    {
      "cell_type": "markdown",
      "source": [
        "### **Flex**\n"
      ],
      "metadata": {
        "id": "-Fy737QHmKTX"
      }
    },
    {
      "cell_type": "markdown",
      "source": [
        "### References\n",
        "\n",
        "1.\n",
        "\n",
        "2.\n",
        "\n",
        "3.\n"
      ],
      "metadata": {
        "id": "I52tdqTVmc5X"
      }
    }
  ]
}